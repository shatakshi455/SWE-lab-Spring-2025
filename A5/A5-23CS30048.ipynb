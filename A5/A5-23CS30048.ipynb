{
 "cells": [
  {
   "cell_type": "markdown",
   "metadata": {},
   "source": [
    "1. Write a simple Python program to print the following on your computer screen."
   ]
  },
  {
   "cell_type": "code",
   "execution_count": 17,
   "metadata": {},
   "outputs": [
    {
     "name": "stdout",
     "output_type": "stream",
     "text": [
      "   *\n",
      "  ***\n",
      " *****\n",
      "*******\n",
      "   *\n",
      "   *\n",
      "   *\n"
     ]
    }
   ],
   "source": [
    "j=3\n",
    "l=1\n",
    "for i in range(4): \n",
    "    for k in range(j): \n",
    "        print(\" \", end=\"\")\n",
    "    j=j-1\n",
    "    for m in range(l):\n",
    "        print(\"*\", end=\"\")\n",
    "    print()\n",
    "    l=l+2\n",
    "for i in range(3):\n",
    "    print(\"   *\")"
   ]
  },
  {
   "cell_type": "markdown",
   "metadata": {},
   "source": [
    "2. Write a program that will read G (the gravitational constant), M (mass of the earth), R (radius of the earth) and then it calculates g (the earth’s acceleration due to gravity).\n",
    "Hint: G = 6.67408 × 10-11 N m2 kg-2 , M = 5.972 × 1024 kg, R = 6378 km.\n",
    "Your program should print all input values and the output value using print(f’..’) format in Python."
   ]
  },
  {
   "cell_type": "code",
   "execution_count": 65,
   "metadata": {},
   "outputs": [
    {
     "name": "stdin",
     "output_type": "stream",
     "text": [
      "Enter G in N m2 kg-2:  6.67e-11\n"
     ]
    },
    {
     "name": "stdout",
     "output_type": "stream",
     "text": [
      "G is: 6.67e-11 N m2 kg-2\n"
     ]
    },
    {
     "name": "stdin",
     "output_type": "stream",
     "text": [
      "Enter M in kg:  5.972e24\n"
     ]
    },
    {
     "name": "stdout",
     "output_type": "stream",
     "text": [
      "M is: 5.972e+24 kg\n"
     ]
    },
    {
     "name": "stdin",
     "output_type": "stream",
     "text": [
      "Enter R in km:  6378\n"
     ]
    },
    {
     "name": "stdout",
     "output_type": "stream",
     "text": [
      "R is: 6378.0 km\n",
      "acceleration using gravity is: 9.792117207541878 m/s2\n"
     ]
    }
   ],
   "source": [
    "G = float(input(\"Enter G in N m2 kg-2: \"))\n",
    "print(f'G is: {G} N m2 kg-2')\n",
    "M = float(input(\"Enter M in kg: \"))\n",
    "print(f'M is: {M} kg')\n",
    "R = float(input(\"Enter R in km: \"))\n",
    "print(f'R is: {R} km')\n",
    "g = G*M/(R*R*1000*1000)\n",
    "print(f'acceleration using gravity is: {g} m/s2')"
   ]
  },
  {
   "cell_type": "markdown",
   "metadata": {},
   "source": [
    "3. Write a program which will read number of seconds. Then it will print in the format: hh-mm-ss. For example, if you read 1000, then it will print 1-46-40.\n",
    "\n",
    "Hint: Use // (gives floor of x divided by y, e.g., 25//4 = 6)  and % (gives remainder of x divided by y, e.g. 25%4 gives 1). Note, both x and y should be integer values. Similarly, x**y return the value of x to the power y. A hint of the program is given above. However, you should try of your own!"
   ]
  },
  {
   "cell_type": "code",
   "execution_count": 19,
   "metadata": {},
   "outputs": [
    {
     "name": "stdin",
     "output_type": "stream",
     "text": [
      "Enter the number of seconds: 10000\n"
     ]
    },
    {
     "name": "stdout",
     "output_type": "stream",
     "text": [
      "2 - 46 - 40\n"
     ]
    }
   ],
   "source": [
    "seconds = int(input(\"Enter the number of seconds:\"))\n",
    "hours = seconds // 3600 \n",
    "seconds = seconds % 3600\n",
    "minutes = seconds // 60 \n",
    "seconds = seconds % 60\n",
    "print(hours, \"-\", minutes, \"-\", seconds)"
   ]
  },
  {
   "cell_type": "markdown",
   "metadata": {},
   "source": [
    "4. When the following program runs, it produces -17.778, which is not correct. Why the following program does not produce correct results? Debug the program and then correct it.\n",
    "\n",
    "# Establish some variables\n",
    "\n",
    "degreesF, degreesC = 0, 0\n",
    "\n",
    "#  Define the relationship between F and C\n",
    "\n",
    "degreesC = 5/9*(degreesF - 32)\n",
    "\n",
    "#  Prompt user for degrees F\n",
    "\n",
    "degreesF = float(input('Enter the temperature in degrees F: '))\n",
    "\n",
    "#  Report the result\n",
    "\n",
    "print(degreesF, \"degrees F =', degreesC, 'degrees C')"
   ]
  },
  {
   "cell_type": "code",
   "execution_count": 93,
   "metadata": {},
   "outputs": [
    {
     "name": "stdin",
     "output_type": "stream",
     "text": [
      "Enter the temperature in degrees F:  97\n"
     ]
    },
    {
     "name": "stdout",
     "output_type": "stream",
     "text": [
      "97.0 degrees F = 36.111111111111114 degrees C\n"
     ]
    }
   ],
   "source": [
    "# Establish some variables\n",
    "\n",
    "degreesF, degreesC = 0, 0\n",
    "\n",
    "#  Prompt user for degrees F\n",
    "\n",
    "degreesF = float(input('Enter the temperature in degrees F: '))\n",
    "\n",
    "#  Define the relationship between F and C\n",
    "\n",
    "degreesC = 5/9*(degreesF - 32)\n",
    "\n",
    "#  Report the result\n",
    "print(degreesF, 'degrees F =', degreesC, 'degrees C')"
   ]
  },
  {
   "cell_type": "markdown",
   "metadata": {},
   "source": [
    "5. Write a program which would read a string from the user. Then your program should convert it into all uppercase and lowercase strings and reverse the string. Also, print the substring from i-th to j-th letters. Read the value of i and j from the user."
   ]
  },
  {
   "cell_type": "code",
   "execution_count": 32,
   "metadata": {},
   "outputs": [
    {
     "name": "stdin",
     "output_type": "stream",
     "text": [
      "Enter the string:  abcdefghi\n",
      "Enter start of substring:  2\n",
      "Enter end of substring:  3\n"
     ]
    },
    {
     "name": "stdout",
     "output_type": "stream",
     "text": [
      "Converted to uppercase: ABCDEFGHI\n",
      "Coverted to lowercase: abcdefghi\n",
      "Reversed string: ihgfedcba\n",
      "Required Substring is : bc\n"
     ]
    }
   ],
   "source": [
    "str = input(\"Enter the string: \")\n",
    "st = int(input(\"Enter start of substring: \"))\n",
    "en = int(input(\"Enter end of substring: \"))\n",
    "print(\"Converted to uppercase: \" + str.upper())\n",
    "print(\"Coverted to lowercase: \" + str.lower())\n",
    "print(\"Reversed string: \" + str[::-1])\n",
    "print(\"Required Substring is : \" + str[st - 1:en])"
   ]
  },
  {
   "cell_type": "markdown",
   "metadata": {},
   "source": [
    "6. Create two lists of random numbers. Then find the union, intersection and difference of the lists."
   ]
  },
  {
   "cell_type": "code",
   "execution_count": 39,
   "metadata": {},
   "outputs": [
    {
     "name": "stdout",
     "output_type": "stream",
     "text": [
      "First list is :  [2, 5, 8, 9]\n",
      "Second list is :  [1, 3, 8, 10]\n",
      "Union :  {1, 2, 3, 5, 8, 9, 10}\n",
      "Intersection:  {8}\n",
      "Difference:  {9, 2, 5}\n"
     ]
    }
   ],
   "source": [
    "List1 = [2, 5, 8, 9]\n",
    "List2 = [1, 3, 8, 10]\n",
    "print(\"First list is : \", List1)\n",
    "print(\"Second list is : \", List2)\n",
    "print(\"Union : \", set(List1).union(set(List2)))\n",
    "print(\"Intersection: \", set(List1).intersection(set(List2)))\n",
    "print(\"Difference: \", set(List1).difference(set(List2)))\n"
   ]
  },
  {
   "cell_type": "markdown",
   "metadata": {},
   "source": [
    "7. Write a program to compute and print the electric bill based on the following chart. Total number of Electric Units will be input by the user as a floating-point number.\n",
    "\n",
    "First 100 KWH:              Rs. 50/-\n",
    "\n",
    "For next 100 units         Rs. 0.75/unit\n",
    "\n",
    "For next 100 units         Rs. 1.20/unit\n",
    "\n",
    "For 300 unit onwards    Rs. 1.50/unit  \n",
    "\n",
    "An additional surcharge of 20% is added to the bill."
   ]
  },
  {
   "cell_type": "code",
   "execution_count": 46,
   "metadata": {},
   "outputs": [
    {
     "name": "stdin",
     "output_type": "stream",
     "text": [
      "Enter the number of units:  101\n"
     ]
    },
    {
     "name": "stdout",
     "output_type": "stream",
     "text": [
      "Your bill is:  60.9\n"
     ]
    }
   ],
   "source": [
    "units = float(input(\"Enter the number of units: \"))\n",
    "bill = float(0)\n",
    "if units <= 100:\n",
    "    bill = 50\n",
    "    units = 0\n",
    "else:\n",
    "    bill = 50\n",
    "    units = units-100\n",
    "\n",
    "if units <= 100:\n",
    "    bill = bill + units * 0.75\n",
    "    units = 0\n",
    "else:\n",
    "    bill = bill + 100 * 0.75\n",
    "    units = units - 100\n",
    "\n",
    "if units <= 100:\n",
    "    bill = bill + units * 1.2\n",
    "    units = 0\n",
    "else:\n",
    "    bill = bill + 100 * 1.2\n",
    "    units = units - 100\n",
    "\n",
    "bill = bill + units * 1.5\n",
    "\n",
    "print(\"Your bill is: \", bill*1.2)"
   ]
  },
  {
   "cell_type": "markdown",
   "metadata": {},
   "source": [
    "8. Write a program, which will read three points (x1,y1), (x2,y2) and (x3,y3) from the user. Then your program should print “Colinear” if the three points lie on the same line; otherwise print “Try with other points”."
   ]
  },
  {
   "cell_type": "code",
   "execution_count": 49,
   "metadata": {},
   "outputs": [
    {
     "name": "stdin",
     "output_type": "stream",
     "text": [
      "Enter x1:  1\n",
      "Enter y1:  2\n",
      "Enter x2:  -1\n",
      "Enter y2:  -2\n",
      "Enter x3:  2\n",
      "Enter y3:  4\n"
     ]
    },
    {
     "name": "stdout",
     "output_type": "stream",
     "text": [
      "Collinear\n"
     ]
    }
   ],
   "source": [
    "x1 = float(input(\"Enter x1: \"))\n",
    "y1 = float(input(\"Enter y1: \"))\n",
    "\n",
    "x2 = float(input(\"Enter x2: \"))\n",
    "y2 = float(input(\"Enter y2: \"))\n",
    "\n",
    "x3 = float(input(\"Enter x3: \"))\n",
    "y3 = float(input(\"Enter y3: \"))\n",
    "\n",
    "if(abs((y2-y1)*(x3-x1)) == abs((y3-y1)*(x2-x1)) ):\n",
    "    print(\"Collinear\")\n",
    "else:\n",
    "    print(\"Try with other numbers: \");"
   ]
  },
  {
   "cell_type": "markdown",
   "metadata": {},
   "source": [
    "9. Read any positive number from the user.  Add the number into a list, which is initially empty. Continue reading numbers from the user, add them into the last until user enter zero or any negative number. Print the smallest number, median and mean of the numbers in the list."
   ]
  },
  {
   "cell_type": "code",
   "execution_count": 52,
   "metadata": {},
   "outputs": [
    {
     "name": "stdin",
     "output_type": "stream",
     "text": [
      "Enter number:  1\n",
      "Enter number:  2\n",
      "Enter number:  3\n",
      "Enter number:  4\n",
      "Enter number:  5\n",
      "Enter number:  0\n"
     ]
    },
    {
     "name": "stdout",
     "output_type": "stream",
     "text": [
      "Smallest number is:  1\n",
      "Median: 3\n",
      "Mean : 3.0\n"
     ]
    }
   ],
   "source": [
    "myList = []\n",
    "s = float(0)\n",
    "c = 0\n",
    "while (1):\n",
    "    x = int(input(\"Enter number: \"))\n",
    "    if(x<=0): \n",
    "        break\n",
    "    myList.append(x)\n",
    "    s = s + x\n",
    "    c = c + 1\n",
    "myList.sort()\n",
    "print(\"Smallest number is: \", myList[0])\n",
    "print(\"Median:\", myList[c//2])\n",
    "print(\"Mean :\", s/c);"
   ]
  },
  {
   "cell_type": "markdown",
   "metadata": {},
   "source": [
    "10. Define a function which would create a matrix of order mxn of random integer values. Write a program to print the matrix in m-rows and n-columns. You should read the values of m and n from the user. Create two matrices A of order mxn and B of order nxp and then print the matrix C = AxB, where AxB denotes the multiplication of two matrices.\n",
    "\n",
    "Hint: import random and then user random.random() or random.randint(a, b)"
   ]
  },
  {
   "cell_type": "code",
   "execution_count": 90,
   "metadata": {},
   "outputs": [
    {
     "name": "stdin",
     "output_type": "stream",
     "text": [
      "Enter m:  2\n",
      "Enter n:  3\n",
      "Enter p:  5\n"
     ]
    },
    {
     "name": "stdout",
     "output_type": "stream",
     "text": [
      "First Matrix is:  [[100, 53, 15], [9, 45, 38]]\n",
      "Second Matrix is:  [[67, 19, 5, 42, 24], [32, 24, 92, 82, 15], [19, 57, 89, 81, 45]]\n",
      "Third Matrix is:  [[8681, 4027, 6711, 9761, 3870], [2765, 3417, 7567, 7146, 2601]]\n"
     ]
    }
   ],
   "source": [
    "import random\n",
    "\n",
    "m = int(input(\"Enter m: \"))\n",
    "n = int(input(\"Enter n: \"))\n",
    "p = int(input(\"Enter p: \"))\n",
    "A = [[0 for i in range(n)] for j in range(m)]\n",
    "B = [[0 for i in range(p)] for j in range(n)]\n",
    "C = [[0 for i in range(p)] for j in range(m)]\n",
    "for i in range(m):\n",
    "    for j in range(n):\n",
    "        A[i][j]=random.randint(0, 100);\n",
    "\n",
    "for i in range(n):\n",
    "    for j in range(p):\n",
    "        B[i][j]=random.randint(0, 100);\n",
    "\n",
    "for i in range(m):\n",
    "    for j in range(p):\n",
    "        C[i][j]=0;\n",
    "        for k in range(n):\n",
    "            C[i][j] = C[i][j] + A[i][k]*B[k][j];\n",
    "\n",
    "print(\"First Matrix is: \" , A);\n",
    "print(\"Second Matrix is: \", B);\n",
    "print(\"Third Matrix is: \", C);\n",
    "\n"
   ]
  },
  {
   "cell_type": "markdown",
   "metadata": {},
   "source": [
    "11.Write a program which will create a list of n random numbers. Scan the list to  check which numbers are Fibonacci numbers."
   ]
  },
  {
   "cell_type": "code",
   "execution_count": 99,
   "metadata": {},
   "outputs": [
    {
     "name": "stdin",
     "output_type": "stream",
     "text": [
      "Enter n:  10\n"
     ]
    },
    {
     "name": "stdout",
     "output_type": "stream",
     "text": [
      "260 is not Fibonacci number\n",
      "324 is not Fibonacci number\n",
      "233 is a Fibonacci number\n",
      "139 is not Fibonacci number\n",
      "419 is not Fibonacci number\n",
      "414 is not Fibonacci number\n",
      "795 is not Fibonacci number\n",
      "877 is not Fibonacci number\n",
      "384 is not Fibonacci number\n",
      "220 is not Fibonacci number\n"
     ]
    }
   ],
   "source": [
    "import random\n",
    "n = int(input(\"Enter n: \"))\n",
    "L = []\n",
    "Fib = [0, 1, 1]\n",
    "i = 1\n",
    "j = 1\n",
    "for x in range(1000):\n",
    "    k = i + j\n",
    "    Fib.append(k)\n",
    "    i = j\n",
    "    j = k\n",
    "for i in range(n):\n",
    "    x = random.randint(0, 1000)\n",
    "    if(Fib.count(x)>0):\n",
    "        print(f'{x} is a Fibonacci number')\n",
    "    else:\n",
    "        print(f'{x} is not Fibonacci number')"
   ]
  },
  {
   "cell_type": "markdown",
   "metadata": {},
   "source": [
    "12.Following is a piece of code written by a programmer. The code seems have a minor bug. Furter the code is written without any proper comment.  You have to inspect the code, fix the bugs and add comments so that the program should be written the way it has to be.  "
   ]
  },
  {
   "cell_type": "code",
   "execution_count": 59,
   "metadata": {},
   "outputs": [
    {
     "name": "stdin",
     "output_type": "stream",
     "text": [
      "Enter the value of n:  5\n"
     ]
    },
    {
     "name": "stdout",
     "output_type": "stream",
     "text": [
      "1,1,2,3,5,\n",
      "The sum of 5 Foo series is 12\n"
     ]
    }
   ],
   "source": [
    "def foo(n:int):\n",
    "#this function printf first n fibonacci numbers\n",
    "    if(n==0):\n",
    "        return\n",
    "    if(n==1):\n",
    "        print(\"1\");\n",
    "        return\n",
    "    i=1\n",
    "    j=1      \n",
    "    print(\"1,1\", end=',')\n",
    "    for l in range(3,n+1):\n",
    "        #foo(i) = foo(i-1)+foo(i-2)\n",
    "        k = i + j     \n",
    "        print(k, end= ',')  \n",
    "        #reassigning the previous two values to proceed further\n",
    "        i=j\n",
    "        j=k\n",
    "\n",
    "def fooSum(n:int) -> int:\n",
    "    #function to calculate the sum of first n foo values\n",
    "    sum = 0\n",
    "    i=1\n",
    "    j=1\n",
    "    if(n==1):\n",
    "        sum = 1\n",
    "    if(n==2):\n",
    "        sum = 2\n",
    "    if(n>=3):\n",
    "        sum = 2\n",
    "        for x in range(3,n+1):\n",
    "            k = i+j \n",
    "            # k =foo(x)\n",
    "            sum = sum + k\n",
    "            #incrementing sum by foo(x)\n",
    "            i=j\n",
    "            j=k\n",
    "    return sum\n",
    "\n",
    "# Driver code\n",
    "n= int(input('Enter the value of n: '))\n",
    "foo(n)\n",
    "x= fooSum(n)\n",
    "print('\\nThe sum of %d Foo series is %d' % (n,x))"
   ]
  }
 ],
 "metadata": {
  "kernelspec": {
   "display_name": "Python 3 (ipykernel)",
   "language": "python",
   "name": "python3"
  },
  "language_info": {
   "codemirror_mode": {
    "name": "ipython",
    "version": 3
   },
   "file_extension": ".py",
   "mimetype": "text/x-python",
   "name": "python",
   "nbconvert_exporter": "python",
   "pygments_lexer": "ipython3",
   "version": "3.12.7"
  }
 },
 "nbformat": 4,
 "nbformat_minor": 4
}
